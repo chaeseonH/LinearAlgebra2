{
  "nbformat": 4,
  "nbformat_minor": 0,
  "metadata": {
    "colab": {
      "provenance": [],
      "authorship_tag": "ABX9TyPEskS/Jf7iGv57qMF2yWPm",
      "include_colab_link": true
    },
    "kernelspec": {
      "name": "python3",
      "display_name": "Python 3"
    },
    "language_info": {
      "name": "python"
    }
  },
  "cells": [
    {
      "cell_type": "markdown",
      "metadata": {
        "id": "view-in-github",
        "colab_type": "text"
      },
      "source": [
        "<a href=\"https://colab.research.google.com/github/chaeseonH/LinearAlgebra2/blob/main/LA2_03.ipynb\" target=\"_parent\"><img src=\"https://colab.research.google.com/assets/colab-badge.svg\" alt=\"Open In Colab\"/></a>"
      ]
    },
    {
      "cell_type": "code",
      "execution_count": null,
      "metadata": {
        "id": "WKfNJHHmGdIv"
      },
      "outputs": [],
      "source": [
        "import numpy as np\n",
        "import numpy.linalg as npl\n",
        "import matplotlib.pyplot as plt"
      ]
    },
    {
      "cell_type": "code",
      "source": [
        "A = np.array([[4,2],[1,3]])\n",
        "print(\"A: \")\n",
        "print(A, \"\\n\")\n",
        "\n",
        "e_values, e_vectors = npl.elg(A)\n",
        "print(\"A의 고윳값 = \", e_values)\n",
        "print(\"A의 고유벡터 = \", e_vectors)\n",
        "\n",
        "#eigen vector u1, u2\n",
        "\n",
        "u1 = np.vstack(e_vectors[:,0])\n",
        "u2 = np.vstack(e_vectors[:,1])\n",
        "print(\"u1: \", u1)\n",
        "print(\"u2: \", u2)\n",
        "\n",
        "#eigen value lambda1, lambda2\n",
        "l1, l2 = e_values[0], e_values[1]\n",
        "print(\"eigen values: \", l1, l2, \"\\n\")\n",
        "\n",
        "#Check\n",
        "print(\"Au1: \", np.dot(A, u1))\n",
        "print(\"l1*u1: \", l1*u1)\n",
        "\n",
        "print(\"Au2: \", np.dot(A, u2))\n",
        "print(\"l2* u2: \", l2*u2)"
      ],
      "metadata": {
        "id": "Qo0Z7Fr8Gtjb"
      },
      "execution_count": null,
      "outputs": []
    },
    {
      "cell_type": "code",
      "source": [
        "B = np.array([[5,2,0], [2,5,0], [-3,4,6]])\n",
        "w2, V2 = np.linalg.eig(B)\n",
        "\n",
        "print(\"\\nB의 고윳값 = \", w2)\n",
        "print(\"B의 고유벡터 = \", V2)"
      ],
      "metadata": {
        "id": "RMRfZzD5Isl2"
      },
      "execution_count": null,
      "outputs": []
    },
    {
      "cell_type": "code",
      "source": [
        "#import numpy as np\n",
        "#import matplotlib.pyplot as plt\n",
        "from sklearn.decomposition import PCA\n",
        "import pandas as pd\n",
        "from sklearn.preprocessing import StandardScaler"
      ],
      "metadata": {
        "id": "veYwZwYcJLu9"
      },
      "execution_count": null,
      "outputs": []
    },
    {
      "cell_type": "code",
      "source": [
        "#iris 데이터의 위치 URL\n",
        "url = \"https://archive.ics.uci.edu/ml/machine-learning-databases/iris/iris.data\"\n",
        "# Pandas DataFrame으로 읽어들이기 \n",
        "df = pd.read_csv(url, names=['sepal length', 'sepal width', 'petal length', 'petal width', 'target'])\n",
        "\n",
        "nrow, ncol = df.shape\n",
        "print(\"Iris data set :\", nrow, \"records with\", ncol, \"attributes\\n\")\n",
        "print(\"First 5 records in iris data\\n\", df.head(5))\n",
        "features = ['sepal length', 'sepal width', 'petal length', 'petal width']\n",
        "x = df.loc[:, features].values #데이터의 속성값\n",
        "y = df.loc[:, ['target']].values #데이터의 부류\n",
        "x = StandardScaler().fit_transform(x) #평균 0, 분산 1인 데이터로 변환\n"
      ],
      "metadata": {
        "id": "2oPlZgDfJfxz"
      },
      "execution_count": null,
      "outputs": []
    },
    {
      "cell_type": "code",
      "source": [
        "pca = PCA(n_components=2) #PCA를 적용하여 2개의 주성분만 추출\n",
        "principalComponents = pca.fit_transform(x)\n",
        "#주성분 축 2개를 이용하여 2차원 데이터로 변환\n",
        "print(\"\\nFirst principal axis:\", pca.components_[0])\n",
        "print(\"Second principal axis:\", pca.components_[1])\n",
        "\n",
        "principalDf = pd.DataFrame(data = principalComponents, columns = ['principal component 1', 'principal component 2'])\n",
        "finalDf = pd.concat([principalDf, df[['target']]], axis = 1)\n",
        "\n",
        "print(\"\\nFirst 5 Transformed records\\n\", finalDf.head(5))"
      ],
      "metadata": {
        "id": "BZxyOf00M82s"
      },
      "execution_count": null,
      "outputs": []
    },
    {
      "cell_type": "code",
      "source": [
        "fig = plt.figure(figsize = (8,8))\n",
        "ax = fig.add_subplot(1,1,1)\n",
        "ax.set_xlabel('principal component 1', fontsize = 12)\n",
        "ax.set_ylabel('principal component 2', fontsize = 12)\n",
        "ax.set_title('PCA with 2 components', fontsize = 15)\n",
        "\n",
        "targets = ['Iris-setosa', 'Iris-versicolor', 'Iris-virginica'] #iris 데이터의 부류 이름\n",
        "colors = ['r', 'g', 'b'] #부류별로 지정된 색상\n",
        "for target, color in zip(targets, colors):\n",
        "  #target에 해당하는 인덱스 가져오기\n",
        "  indicesToKeep = finalDf['target'] == target\n",
        "  ax.scatter(finalDf.loc[indicesTokeep, 'principal component 1'], finalDf.loc[indicesToKeep, 'principal component 2'], c = color, s = 40)\n",
        "ax.legend(targets)\n",
        "ax.grid()\n",
        "fig.show()"
      ],
      "metadata": {
        "id": "J3f59nW9OTRG"
      },
      "execution_count": null,
      "outputs": []
    }
  ]
}